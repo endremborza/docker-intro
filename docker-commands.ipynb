{
 "cells": [
  {
   "cell_type": "code",
   "execution_count": 1,
   "metadata": {},
   "outputs": [
    {
     "name": "stdout",
     "output_type": "stream",
     "text": [
      "Sending build context to Docker daemon  6.144kB\n",
      "Step 1/2 : FROM python:3.7\n",
      " ---> 8e3336637d81\n",
      "Step 2/2 : CMD [\"python\", \"--version\"]\n",
      " ---> Running in ac6916c02345\n",
      "Removing intermediate container ac6916c02345\n",
      " ---> 147b706fb31e\n",
      "Successfully built 147b706fb31e\n",
      "Successfully tagged teachimage:v0\n"
     ]
    }
   ],
   "source": [
    "!docker build . -t teachimage:v0"
   ]
  },
  {
   "cell_type": "code",
   "execution_count": 2,
   "metadata": {},
   "outputs": [
    {
     "name": "stdout",
     "output_type": "stream",
     "text": [
      "Python 3.7.7\r\n"
     ]
    }
   ],
   "source": [
    "!docker run teachimage:v0"
   ]
  }
 ],
 "metadata": {
  "kernelspec": {
   "display_name": "Python 3",
   "language": "python",
   "name": "python3"
  },
  "language_info": {
   "codemirror_mode": {
    "name": "ipython",
    "version": 3
   },
   "file_extension": ".py",
   "mimetype": "text/x-python",
   "name": "python",
   "nbconvert_exporter": "python",
   "pygments_lexer": "ipython3",
   "version": "3.7.5"
  }
 },
 "nbformat": 4,
 "nbformat_minor": 4
}
