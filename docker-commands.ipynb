{
 "cells": [
  {
   "cell_type": "code",
   "execution_count": 3,
   "metadata": {},
   "outputs": [
    {
     "name": "stdout",
     "output_type": "stream",
     "text": [
      "Sending build context to Docker daemon  57.86kB\n",
      "Step 1/3 : FROM python:3.7\n",
      " ---> 8e3336637d81\n",
      "Step 2/3 : COPY ./script.py /script.py\n",
      " ---> 050428ac5f42\n",
      "Step 3/3 : CMD [\"python\", \"/script.py\"]\n",
      " ---> Running in d43235f15b9f\n",
      "Removing intermediate container d43235f15b9f\n",
      " ---> b415c9fb161b\n",
      "Successfully built b415c9fb161b\n",
      "Successfully tagged teachimage:v1\n"
     ]
    }
   ],
   "source": [
    "!docker build . -t teachimage:v1"
   ]
  },
  {
   "cell_type": "code",
   "execution_count": 4,
   "metadata": {},
   "outputs": [
    {
     "name": "stdout",
     "output_type": "stream",
     "text": [
      "I'm running in a python script!!\r\n"
     ]
    }
   ],
   "source": [
    "!docker run teachimage:v1"
   ]
  }
 ],
 "metadata": {
  "kernelspec": {
   "display_name": "Python 3",
   "language": "python",
   "name": "python3"
  },
  "language_info": {
   "codemirror_mode": {
    "name": "ipython",
    "version": 3
   },
   "file_extension": ".py",
   "mimetype": "text/x-python",
   "name": "python",
   "nbconvert_exporter": "python",
   "pygments_lexer": "ipython3",
   "version": "3.7.5"
  }
 },
 "nbformat": 4,
 "nbformat_minor": 4
}
